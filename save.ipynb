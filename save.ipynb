#import relevant libraries for the data analysis
import pandas as pd
import numpy as np
import folium
%matplotlib in line
import matplotlib as mpl
import matplotlib.pyplot as plt
print('libraries imported')
pd.set_option('display.max_columns', None)

#import the dataset
website_url='https://s3.us.cloud-object-storage.appdomain.cloud/cf-courses-data/CognitiveClass/DP0701EN/version-2/Data-Collisions.csv'
Df= pd.read_csv(website_url, sep=',', error_bad_lines=False, index_col=False,dtype='unicode')
Df.head()
Df.tail()

Df.info()

# To Check the null or NaN in the dataset
missing_data=Df.isnull()
missing_data.head()

for column in missing_data.columns.values.tolist():
    print(column)
    print(missing_data[column].value_counts())
    print("")

# Drop unrelevant attributes
df_1=Df.drop(['SEVERITYCODE','EXCEPTRSNCODE','EXCEPTRSNDESC','INCKEY',
              'COLDETKEY','REPORTNO','STATUS','INTKEY','SEGLANEKEY','CROSSWALKKEY',
              'HITPARKEDCAR','SDOTCOLNUM'],axis=1)
df_1.dtypes
df_1.rename(columns={'X':'Longitude','Y':'Latitude',
                     'SEVERITYCODE.1':'SEVERITYCODE'},inplace=True)
df_1

#reset the dtypes of each column in the df_1
df_1['Longitude']=df_1['Longitude'].astype('float')
df_1['Latitude']=df_1['Latitude'].astype('float')
df_1['OBJECTID']=df_1['OBJECTID'].astype('string')
df_1['ADDRTYPE']=df_1['ADDRTYPE'].astype('string')
df_1['LOCATION']=df_1['LOCATION'].astype('string')
df_1['SEVERITYCODE']=df_1['SEVERITYCODE'].astype('string')
df_1['SEVERITYDESC']=df_1['SEVERITYDESC'].astype('string')
df_1['COLLISIONTYPE']=df_1['COLLISIONTYPE'].astype('string')
df_1['PERSONCOUNT']=df_1['PERSONCOUNT'].astype('int')
df_1['PEDCOUNT']=df_1['PEDCOUNT'].astype('int')
df_1['PEDCYLCOUNT']=df_1['PEDCYLCOUNT'].astype('int')
df_1['VEHCOUNT']=df_1['VEHCOUNT'].astype('int')
df_1['INCDATE']=df_1['INCDATE'].astype('string')
df_1['INCDTTM']=df_1['INCDTTM'].astype('string')
df_1['JUNCTIONTYPE']=df_1['JUNCTIONTYPE'].astype('string')
df_1['SDOT_COLCODE']=df_1['SDOT_COLCODE'].astype('string')
df_1['SDOT_COLDESC']=df_1['SDOT_COLDESC'].astype('string')
df_1['INATTENTIONIND']=df_1['INATTENTIONIND'].astype('string')
df_1['UNDERINFL']=df_1['UNDERINFL'].astype('string')
df_1['WEATHER']=df_1['WEATHER'].astype('string')
df_1['ROADCOND']=df_1['ROADCOND'].astype('string')
df_1['LIGHTCOND']=df_1['LIGHTCOND'].astype('string')
df_1['PEDROWNOTGRNT']=df_1['PEDROWNOTGRNT'].astype('string')
df_1['SPEEDING']=df_1['SPEEDING'].astype('string')
df_1['ST_COLCODE']=df_1['ST_COLCODE'].astype('string')
df_1['ST_COLDESC']=df_1['ST_COLDESC'].astype('string')

df_1.dtypes


## 1. Check about the location of heavy incidents(PERSONCOUNT over 10)
location_statistic=df_1[['Longitude','Latitude','OBJECTID','PERSONCOUNT',
                       'PEDCOUNT','PEDCYLCOUNT','VEHCOUNT']]
location_statistic
serious_incidents=location_statistic.loc[location_statistic.PERSONCOUNT>10]
serious_incidents=serious_incidents.dropna()
serious_incidents

latitude=47.64
longitude=-122.30
seattle_map=folium.Map(location=[latitude, longitude],zoom_start=11)
seattle_map


# instantiate a feature group for the incidents in the dataframe
incidents = folium.map.FeatureGroup()

# loop through the serious incidents and add each to the incidents feature group

for lat, lng, in zip(serious_incidents.Latitude, serious_incidents.Longitude):
    incidents.add_child(
        folium.features.CircleMarker(
            [lat, lng],
            radius=5, # define how big you want the circle markers to be
            color='red',
            fill=True,
            fill_color='blue',
            fill_opacity=0.6
        )
    )

seattle_map.add_child(incidents)


## The Exploratory data analysis
# count the incidents in each year
df_2=df_1[['INCDATE','INCDTTM','OBJECTID','PERSONCOUNT','PEDCOUNT','PEDCYLCOUNT','VEHCOUNT']]
df_2

#summarize the annual incidents
df_2['INCDATE']=pd.to_datetime(df_2['INCDATE'], format='%Y/%m/%d',errors='coerce')
annual_incidents=df_2['OBJECTID'].groupby([df_2['INCDATE'].dt.year.rename('Year')]).agg({'count'})
annual_incidents.rename(columns={'count':'Incidents'},inplace=True)
annual_incidents

# Create the bar Chart for the annual incidents
annual_incidents.plot(kind='bar',figsize=(14,8))
plt.title('The Numbers of Incidents in Seattle in last 16 years')
plt.ylabel('Numbers of the Incidents')
plt.xlabel('Year')
plt.show()

# summarize the scale of incidents every year
annual_statistic_2=df_2['PEDCOUNT'].groupby([df_2['INCDATE'].dt.year.rename('Year')]).sum().to_frame(name='Pedestrians').reset_index()
annual_statistic_3=df_2['PEDCYLCOUNT'].groupby([df_2['INCDATE'].dt.year.rename('Year')]).sum().to_frame(name='Bicycles').reset_index()
annual_statistic_a=pd.concat([annual_statistic_2,annual_statistic_3],axis=1)
annual_statistic_a= annual_statistic_a.loc[:,~annual_statistic_a.columns.duplicated()]
annual_statistic_a

#create the bar chart for pedestrians and bicycles
labels=annual_statistic_a['Year']
pedestrians=annual_statistic_a['Pedestrians']
bicycles=annual_statistic_a['Bicycles']

x = np.arange(len(labels))  # the label locations
width = 0.35  # the width of the bars

fig, ax = plt.subplots(figsize=(14,8))
rects1 = ax.bar(x - width/2, pedestrians, width, label='Pedestrians')
rects2 = ax.bar(x + width/2, bicycles, width, label='Bicycles')

# Add some text for labels, title and custom x-axis tick labels, etc.
ax.set_ylabel('Numbers')
ax.set_title('Numbers of Involved Pedestrians and Bicycles')
ax.set_xticks(x)
ax.set_xticklabels(labels)
ax.legend()

def autolabel(rects):
    """Attach a text label above each bar in *rects*, displaying its height."""
    for rect in rects:
        height = rect.get_height()
        ax.annotate('{}'.format(height),
                    xy=(rect.get_x() + rect.get_width() / 2, height),
                    xytext=(0, 3),  # 3 points vertical offset
                    textcoords="offset points",
                    ha='center', va='bottom')

autolabel(rects1)
autolabel(rects2)

fig.tight_layout()

plt.show()

##Cheat the bar chart for annual Vehicles
annual_vehicle=df_2['VEHCOUNT'].groupby([df_2['INCDATE'].dt.year.rename('Year')]).sum().to_frame(name='Vehicles')
annual_vehicle

annual_vehicle.plot(kind='bar',figsize=(14,8),color='lightblue')
plt.title('The Involved Vehicles in Seattle in last 16 years')
plt.ylabel('Numbers of the Involved Vehicles')
plt.xlabel('Year')
plt.show()
